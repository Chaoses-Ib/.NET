{
 "cells": [
  {
   "cell_type": "code",
   "execution_count": 16,
   "metadata": {
    "dotnet_interactive": {
     "language": "csharp"
    },
    "vscode": {
     "languageId": "dotnet-interactive.csharp"
    }
   },
   "outputs": [
    {
     "ename": "Error",
     "evalue": "(10,22): error CS1503: 参数 1: 无法从“int[]”转换为“bool”",
     "output_type": "error",
     "traceback": [
      "(10,22): error CS1503: 参数 1: 无法从“int[]”转换为“bool”"
     ]
    }
   ],
   "source": [
    "using System.IO;\n",
    "\n",
    "using (Stream stream = new FileStream(\"data.private.bin\", FileMode.Create, FileAccess.Write, FileShare.None))\n",
    "{\n",
    "    using (var writer = new BinaryWriter(stream))\n",
    "    {\n",
    "        writer.Write(1);\n",
    "        writer.Write(255);\n",
    "        writer.Write(\"Hello\");\n",
    "    }\n",
    "}"
   ]
  },
  {
   "cell_type": "code",
   "execution_count": 14,
   "metadata": {
    "dotnet_interactive": {
     "language": "csharp"
    },
    "vscode": {
     "languageId": "dotnet-interactive.csharp"
    }
   },
   "outputs": [
    {
     "name": "stdout",
     "output_type": "stream",
     "text": [
      "1\r\n",
      "255\r\n",
      "Hello\r\n"
     ]
    }
   ],
   "source": [
    "using (Stream stream = new FileStream(\"data.private.bin\", FileMode.Open, FileAccess.Read, FileShare.None))\n",
    "{\n",
    "    using (var reader = new BinaryReader(stream))\n",
    "    {\n",
    "        Console.WriteLine(reader.ReadInt32());\n",
    "        Console.WriteLine(reader.ReadInt32());\n",
    "        Console.WriteLine(reader.ReadString());\n",
    "    }\n",
    "}"
   ]
  },
  {
   "cell_type": "code",
   "execution_count": 5,
   "metadata": {
    "dotnet_interactive": {
     "language": "csharp"
    },
    "vscode": {
     "languageId": "dotnet-interactive.csharp"
    }
   },
   "outputs": [
    {
     "ename": "Error",
     "evalue": "System.NotSupportedException: BinaryFormatter serialization and deserialization are disabled within this application. See https://aka.ms/binaryformatter for more information.\r\n   at System.Runtime.Serialization.Formatters.Binary.BinaryFormatter.Serialize(Stream serializationStream, Object graph)\r\n   at Submission#6.<<Initialize>>d__0.MoveNext()\r\n--- End of stack trace from previous location ---\r\n   at Microsoft.CodeAnalysis.Scripting.ScriptExecutionState.RunSubmissionsAsync[TResult](ImmutableArray`1 precedingExecutors, Func`2 currentExecutor, StrongBox`1 exceptionHolderOpt, Func`2 catchExceptionOpt, CancellationToken cancellationToken)",
     "output_type": "error",
     "traceback": [
      "System.NotSupportedException: BinaryFormatter serialization and deserialization are disabled within this application. See https://aka.ms/binaryformatter for more information.\r\n",
      "   at System.Runtime.Serialization.Formatters.Binary.BinaryFormatter.Serialize(Stream serializationStream, Object graph)\r\n",
      "   at Submission#6.<<Initialize>>d__0.MoveNext()\r\n",
      "--- End of stack trace from previous location ---\r\n",
      "   at Microsoft.CodeAnalysis.Scripting.ScriptExecutionState.RunSubmissionsAsync[TResult](ImmutableArray`1 precedingExecutors, Func`2 currentExecutor, StrongBox`1 exceptionHolderOpt, Func`2 catchExceptionOpt, CancellationToken cancellationToken)"
     ]
    }
   ],
   "source": [
    "using System.Runtime.Serialization.Formatters.Binary;\n",
    "using System.Runtime.Serialization;\n",
    "using System.IO;\n",
    "\n",
    "[Serializable]\n",
    "public class MyObject {\n",
    "    public int n1 = 0;\n",
    "    public int n2 = 0;\n",
    "    public string str = null;\n",
    "}\n",
    "\n",
    "MyObject obj = new();\n",
    "obj.n1 = 1;\n",
    "obj.n2 = 255;\n",
    "obj.str = \"Hello\";\n",
    "\n",
    "IFormatter formatter = new BinaryFormatter();\n",
    "Stream stream = new FileStream(\"data.private.bin\", FileMode.Create, FileAccess.Write, FileShare.None);\n",
    "formatter.Serialize(stream, obj);\n",
    "stream.Close();"
   ]
  }
 ],
 "metadata": {
  "kernelspec": {
   "display_name": ".NET (C#)",
   "language": "C#",
   "name": ".net-csharp"
  },
  "language_info": {
   "file_extension": ".cs",
   "mimetype": "text/x-csharp",
   "name": "C#",
   "pygments_lexer": "csharp",
   "version": "9.0"
  },
  "orig_nbformat": 4
 },
 "nbformat": 4,
 "nbformat_minor": 2
}
